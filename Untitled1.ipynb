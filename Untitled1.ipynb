

import zipfile #Библиотека для работы с zip архивами
import os # Библиотека для работы с файловой системой
from google.colab import drive # Модуль для работы с Google Disc
     

# Import Data Science Libraries
import numpy as np
import pandas as pd
import matplotlib.pyplot as plt
import tensorflow as tf
from sklearn.model_selection import train_test_split

# Tensorflow Libraries
from tensorflow import keras
!pip install keras
!pip install keras_preprocessing
from tensorflow.keras import layers,models
from keras_preprocessing.image import ImageDataGenerator
from keras.layers import Dense, Dropout
from tensorflow.keras.callbacks import Callback, EarlyStopping,ModelCheckpoint, ReduceLROnPlateau
from tensorflow.keras.optimizers import Adam
from tensorflow.keras.applications import MobileNetV2
from tensorflow.keras import Model
from tensorflow.keras.layers.experimental import preprocessing

# System libraries
from pathlib import Path
import os.path
import random

# Visualization Libraries
import matplotlib.cm as cm
import cv2
import seaborn as sns

sns.set_style('darkgrid')

# Metrics
from sklearn.metrics import classification_report, confusion_matrix
import itertools
     
Requirement already satisfied: keras in /usr/local/lib/python3.10/dist-packages (2.15.0)
Collecting keras_preprocessing
  Downloading Keras_Preprocessing-1.1.2-py2.py3-none-any.whl (42 kB)
     ━━━━━━━━━━━━━━━━━━━━━━━━━━━━━━━━━━━━━━━━ 42.6/42.6 kB 1.7 MB/s eta 0:00:00
Requirement already satisfied: numpy>=1.9.1 in /usr/local/lib/python3.10/dist-packages (from keras_preprocessing) (1.23.5)
Requirement already satisfied: six>=1.9.0 in /usr/local/lib/python3.10/dist-packages (from keras_preprocessing) (1.16.0)
Installing collected packages: keras_preprocessing
Successfully installed keras_preprocessing-1.1.2

# Подключаем GoogleDisc
drive.mount('/content/drive')
     
Mounted at /content/drive

# Прописываем путь к файлу с архивом
zip_file = '/content/drive/MyDrive/archive.zip'

# Распаковываем архив
z = zipfile.ZipFile(zip_file, 'r')
z.extractall()

# Просмотр результата разархивации
print(os.listdir())
     
['.config', 'train', 'test', 'valid', 'EfficientNetB0-525-(224 X 224)- 98.97.h5', 'birds.csv', 'drive', 'sample_data']

!wget https://raw.githubusercontent.com/mrdbourke/tensorflow-deep-learning/main/extras/helper_functions.py

# Импорт ряда вспомогательных функций для нашего ноутбука
from helper_functions import create_tensorboard_callback, plot_loss_curves, unzip_data, compare_historys, walk_through_dir, pred_and_plot
     
--2024-01-19 05:39:17--  https://raw.githubusercontent.com/mrdbourke/tensorflow-deep-learning/main/extras/helper_functions.py
Resolving raw.githubusercontent.com (raw.githubusercontent.com)... 185.199.108.133, 185.199.109.133, 185.199.110.133, ...
Connecting to raw.githubusercontent.com (raw.githubusercontent.com)|185.199.108.133|:443... connected.
HTTP request sent, awaiting response... 200 OK
Length: 10246 (10K) [text/plain]
Saving to: ‘helper_functions.py’

helper_functions.py 100%[===================>]  10.01K  --.-KB/s    in 0s      

2024-01-19 05:39:17 (85.3 MB/s) - ‘helper_functions.py’ saved [10246/10246]


BATCH_SIZE = 32
TARGET_SIZE = (224, 224)
     

# Пройдемся по каждму каталогу
dataset = "/content/train"
walk_through_dir(dataset);
     
There are 525 directories and 0 images in '/content/train'.
There are 0 directories and 140 images in '/content/train/RAINBOW LORIKEET'.
There are 0 directories and 185 images in '/content/train/BLUE GROUSE'.
There are 0 directories and 153 images in '/content/train/WHITE CHEEKED TURACO'.
There are 0 directories and 185 images in '/content/train/CANVASBACK'.
There are 0 directories and 196 images in '/content/train/NORTHERN PARULA'.
There are 0 directories and 190 images in '/content/train/DUNLIN'.
There are 0 directories and 176 images in '/content/train/GREEN MAGPIE'.
There are 0 directories and 150 images in '/content/train/HIMALAYAN BLUETAIL'.
There are 0 directories and 180 images in '/content/train/CEDAR WAXWING'.
There are 0 directories and 150 images in '/content/train/ALTAMIRA YELLOWTHROAT'.
There are 0 directories and 154 images in '/content/train/EARED PITA'.
There are 0 directories and 136 images in '/content/train/RED BROWED FINCH'.
There are 0 directories and 197 images in '/content/train/KNOB BILLED DUCK'.
There are 0 directories and 197 images in '/content/train/SAYS PHOEBE'.
There are 0 directories and 159 images in '/content/train/MALEO'.
There are 0 directories and 163 images in '/content/train/PAINTED BUNTING'.
There are 0 directories and 162 images in '/content/train/VIOLET TURACO'.
There are 0 directories and 152 images in '/content/train/EMPEROR PENGUIN'.
There are 0 directories and 163 images in '/content/train/CROW'.
There are 0 directories and 153 images in '/content/train/ANHINGA'.
There are 0 directories and 138 images in '/content/train/LILAC ROLLER'.
There are 0 directories and 157 images in '/content/train/HORNED GUAN'.
There are 0 directories and 156 images in '/content/train/BLACK VULTURE'.
There are 0 directories and 164 images in '/content/train/AVADAVAT'.
There are 0 directories and 152 images in '/content/train/OSPREY'.
There are 0 directories and 153 images in '/content/train/BANDED STILT'.
There are 0 directories and 153 images in '/content/train/WILD TURKEY'.
There are 0 directories and 154 images in '/content/train/NORTHERN GANNET'.
There are 0 directories and 176 images in '/content/train/PARADISE TANAGER'.
There are 0 directories and 153 images in '/content/train/RED FACED CORMORANT'.
There are 0 directories and 144 images in '/content/train/ANDEAN LAPWING'.
There are 0 directories and 161 images in '/content/train/INLAND DOTTEREL'.
There are 0 directories and 161 images in '/content/train/CLARKS NUTCRACKER'.
There are 0 directories and 207 images in '/content/train/OYSTER CATCHER'.
There are 0 directories and 154 images in '/content/train/WHITE BROWED CRAKE'.
There are 0 directories and 188 images in '/content/train/PHAINOPEPLA'.
There are 0 directories and 138 images in '/content/train/WHIMBREL'.
There are 0 directories and 183 images in '/content/train/INDIAN ROLLER'.
There are 0 directories and 156 images in '/content/train/PEREGRINE FALCON'.
There are 0 directories and 205 images in '/content/train/EASTERN YELLOW ROBIN'.
There are 0 directories and 164 images in '/content/train/WHITE THROATED BEE EATER'.
There are 0 directories and 139 images in '/content/train/DEMOISELLE CRANE'.
There are 0 directories and 209 images in '/content/train/PYRRHULOXIA'.
There are 0 directories and 175 images in '/content/train/SHOEBILL'.
There are 0 directories and 184 images in '/content/train/SPOTTED WHISTLING DUCK'.
There are 0 directories and 159 images in '/content/train/YELLOW HEADED BLACKBIRD'.
There are 0 directories and 160 images in '/content/train/FAIRY BLUEBIRD'.
There are 0 directories and 136 images in '/content/train/BARRED PUFFBIRD'.
There are 0 directories and 136 images in '/content/train/KING VULTURE'.
There are 0 directories and 179 images in '/content/train/AMERICAN AVOCET'.
There are 0 directories and 164 images in '/content/train/ASHY THRUSHBIRD'.
There are 0 directories and 156 images in '/content/train/PEACOCK'.
There are 0 directories and 155 images in '/content/train/GOULDIAN FINCH'.
There are 0 directories and 136 images in '/content/train/DARJEELING WOODPECKER'.
There are 0 directories and 163 images in '/content/train/JOCOTOCO ANTPITTA'.
There are 0 directories and 154 images in '/content/train/AUSTRAL CANASTERO'.
There are 0 directories and 144 images in '/content/train/IMPERIAL SHAQ'.
There are 0 directories and 155 images in '/content/train/YELLOW CACIQUE'.
There are 0 directories and 159 images in '/content/train/DALMATIAN PELICAN'.
There are 0 directories and 156 images in '/content/train/SANDHILL CRANE'.
There are 0 directories and 163 images in '/content/train/HAMERKOP'.
There are 0 directories and 153 images in '/content/train/BLOOD PHEASANT'.
There are 0 directories and 150 images in '/content/train/SPOTTED CATBIRD'.
There are 0 directories and 132 images in '/content/train/BALI STARLING'.
There are 0 directories and 153 images in '/content/train/APOSTLEBIRD'.
There are 0 directories and 168 images in '/content/train/LUCIFER HUMMINGBIRD'.
There are 0 directories and 153 images in '/content/train/GAMBELS QUAIL'.
There are 0 directories and 211 images in '/content/train/WOOD THRUSH'.
There are 0 directories and 132 images in '/content/train/ALBATROSS'.
There are 0 directories and 155 images in '/content/train/GROVED BILLED ANI'.
There are 0 directories and 141 images in '/content/train/IBISBILL'.
There are 0 directories and 180 images in '/content/train/ABBOTTS BOOBY'.
There are 0 directories and 233 images in '/content/train/D-ARNAUDS BARBET'.
There are 0 directories and 143 images in '/content/train/BURCHELLS COURSER'.
There are 0 directories and 187 images in '/content/train/SNOWY SHEATHBILL'.
There are 0 directories and 161 images in '/content/train/CALIFORNIA QUAIL'.
There are 0 directories and 175 images in '/content/train/VIOLET CUCKOO'.
There are 0 directories and 155 images in '/content/train/BLACK SKIMMER'.
There are 0 directories and 202 images in '/content/train/RED TAILED HAWK'.
There are 0 directories and 177 images in '/content/train/COLLARED ARACARI'.
There are 0 directories and 190 images in '/content/train/VEERY'.
There are 0 directories and 152 images in '/content/train/CALIFORNIA CONDOR'.
There are 0 directories and 160 images in '/content/train/RED HEADED DUCK'.
There are 0 directories and 130 images in '/content/train/EURASIAN GOLDEN ORIOLE'.
There are 0 directories and 158 images in '/content/train/GREY PLOVER'.
There are 0 directories and 165 images in '/content/train/ALEXANDRINE PARAKEET'.
There are 0 directories and 152 images in '/content/train/FIORDLAND PENGUIN'.
There are 0 directories and 193 images in '/content/train/VARIED THRUSH'.
There are 0 directories and 132 images in '/content/train/SCARLET TANAGER'.
There are 0 directories and 154 images in '/content/train/APAPANE'.
There are 0 directories and 142 images in '/content/train/GANG GANG COCKATOO'.
There are 0 directories and 152 images in '/content/train/BORNEAN PHEASANT'.
There are 0 directories and 193 images in '/content/train/WRENTIT'.
There are 0 directories and 184 images in '/content/train/BUFFLEHEAD'.
There are 0 directories and 168 images in '/content/train/BLACK-THROATED SPARROW'.
There are 0 directories and 181 images in '/content/train/BLACK HEADED CAIQUE'.
There are 0 directories and 175 images in '/content/train/SNOW PARTRIDGE'.
There are 0 directories and 132 images in '/content/train/BARROWS GOLDENEYE'.
There are 0 directories and 187 images in '/content/train/AMERICAN WIGEON'.
There are 0 directories and 156 images in '/content/train/NORTHERN JACANA'.
There are 0 directories and 170 images in '/content/train/CHESTNUT WINGED CUCKOO'.
There are 0 directories and 154 images in '/content/train/AFRICAN EMERALD CUCKOO'.
There are 0 directories and 169 images in '/content/train/SATYR TRAGOPAN'.
There are 0 directories and 154 images in '/content/train/SCARLET CROWNED FRUIT DOVE'.
There are 0 directories and 162 images in '/content/train/RED WISKERED BULBUL'.
There are 0 directories and 155 images in '/content/train/AFRICAN OYSTER CATCHER'.
There are 0 directories and 163 images in '/content/train/CRESTED KINGFISHER'.
There are 0 directories and 142 images in '/content/train/CRESTED FIREBACK'.
There are 0 directories and 155 images in '/content/train/HOATZIN'.
There are 0 directories and 137 images in '/content/train/BALTIMORE ORIOLE'.
There are 0 directories and 183 images in '/content/train/BREWERS BLACKBIRD'.
There are 0 directories and 154 images in '/content/train/LESSER ADJUTANT'.
There are 0 directories and 144 images in '/content/train/ELEGANT TROGON'.
There are 0 directories and 185 images in '/content/train/DOUBLE BRESTED CORMARANT'.
There are 0 directories and 157 images in '/content/train/SCARLET MACAW'.
There are 0 directories and 150 images in '/content/train/ANTBIRD'.
There are 0 directories and 166 images in '/content/train/ALPINE CHOUGH'.
There are 0 directories and 182 images in '/content/train/VERDIN'.
There are 0 directories and 157 images in '/content/train/GREATER PEWEE'.
There are 0 directories and 151 images in '/content/train/BIRD OF PARADISE'.
There are 0 directories and 151 images in '/content/train/HIMALAYAN MONAL'.
There are 0 directories and 150 images in '/content/train/FAN TAILED WIDOW'.
There are 0 directories and 194 images in '/content/train/WOODLAND KINGFISHER'.
There are 0 directories and 139 images in '/content/train/ANTILLEAN EUPHONIA'.
There are 0 directories and 192 images in '/content/train/ORANGE BREASTED TROGON'.
There are 0 directories and 156 images in '/content/train/BLACK BAZA'.
There are 0 directories and 159 images in '/content/train/GOLDEN PHEASANT'.
There are 0 directories and 137 images in '/content/train/GUINEAFOWL'.
There are 0 directories and 169 images in '/content/train/GREAT KISKADEE'.
There are 0 directories and 155 images in '/content/train/HOUSE SPARROW'.
There are 0 directories and 141 images in '/content/train/CHUCAO TAPACULO'.
There are 0 directories and 193 images in '/content/train/RAZORBILL'.
There are 0 directories and 184 images in '/content/train/GREATOR SAGE GROUSE'.
There are 0 directories and 160 images in '/content/train/OKINAWA RAIL'.
There are 0 directories and 154 images in '/content/train/TROPICAL KINGBIRD'.
There are 0 directories and 183 images in '/content/train/MASKED BOBWHITE'.
There are 0 directories and 168 images in '/content/train/BAR-TAILED GODWIT'.
There are 0 directories and 141 images in '/content/train/TAILORBIRD'.
There are 0 directories and 133 images in '/content/train/BLACK-CAPPED CHICKADEE'.
There are 0 directories and 135 images in '/content/train/STORK BILLED KINGFISHER'.
There are 0 directories and 152 images in '/content/train/GRANDALA'.
There are 0 directories and 176 images in '/content/train/GOLDEN CHEEKED WARBLER'.
There are 0 directories and 151 images in '/content/train/HARLEQUIN DUCK'.
There are 0 directories and 153 images in '/content/train/PURPLE GALLINULE'.
There are 0 directories and 134 images in '/content/train/ANDEAN GOOSE'.
There are 0 directories and 160 images in '/content/train/HEPATIC TANAGER'.
There are 0 directories and 139 images in '/content/train/ROSY FACED LOVEBIRD'.
There are 0 directories and 164 images in '/content/train/GRAY KINGBIRD'.
There are 0 directories and 140 images in '/content/train/GOLDEN BOWER BIRD'.
There are 0 directories and 172 images in '/content/train/WALL CREAPER'.
There are 0 directories and 142 images in '/content/train/BEARDED BELLBIRD'.
There are 0 directories and 132 images in '/content/train/ROCK DOVE'.
There are 0 directories and 166 images in '/content/train/DOUBLE EYED FIG PARROT'.
There are 0 directories and 132 images in '/content/train/CHESTNET BELLIED EUPHONIA'.
There are 0 directories and 161 images in '/content/train/SRI LANKA BLUE MAGPIE'.
There are 0 directories and 200 images in '/content/train/RED KNOT'.
There are 0 directories and 208 images in '/content/train/ORNATE HAWK EAGLE'.
There are 0 directories and 149 images in '/content/train/CAPE MAY WARBLER'.
There are 0 directories and 159 images in '/content/train/WHITE CRESTED HORNBILL'.
There are 0 directories and 143 images in '/content/train/GREY HEADED FISH EAGLE'.
There are 0 directories and 170 images in '/content/train/AMERICAN BITTERN'.
There are 0 directories and 197 images in '/content/train/ROSE BREASTED COCKATOO'.
There are 0 directories and 167 images in '/content/train/CHUKAR PARTRIDGE'.
There are 0 directories and 187 images in '/content/train/MCKAYS BUNTING'.
There are 0 directories and 154 images in '/content/train/PHILIPPINE EAGLE'.
There are 0 directories and 164 images in '/content/train/SHORT BILLED DOWITCHER'.
There are 0 directories and 132 images in '/content/train/MASKED BOOBY'.
There are 0 directories and 157 images in '/content/train/EGYPTIAN GOOSE'.
There are 0 directories and 135 images in '/content/train/CRANE HAWK'.
There are 0 directories and 138 images in '/content/train/GILDED FLICKER'.
There are 0 directories and 170 images in '/content/train/ZEBRA DOVE'.
There are 0 directories and 137 images in '/content/train/CAPPED HERON'.
There are 0 directories and 190 images in '/content/train/SNOW GOOSE'.
There are 0 directories and 154 images in '/content/train/GREEN WINGED DOVE'.
There are 0 directories and 142 images in '/content/train/BLACK AND YELLOW BROADBILL'.
There are 0 directories and 141 images in '/content/train/ASIAN DOLLARD BIRD'.
There are 0 directories and 151 images in '/content/train/SAND MARTIN'.
There are 0 directories and 154 images in '/content/train/EURASIAN MAGPIE'.
There are 0 directories and 162 images in '/content/train/JANDAYA PARAKEET'.
There are 0 directories and 189 images in '/content/train/RUFUOS MOTMOT'.
There are 0 directories and 157 images in '/content/train/NOISY FRIARBIRD'.
There are 0 directories and 166 images in '/content/train/EURASIAN BULLFINCH'.
There are 0 directories and 154 images in '/content/train/EASTERN BLUEBIRD'.
There are 0 directories and 143 images in '/content/train/MALAGASY WHITE EYE'.
There are 0 directories and 177 images in '/content/train/BROWN CREPPER'.
There are 0 directories and 157 images in '/content/train/EASTERN TOWEE'.
There are 0 directories and 161 images in '/content/train/ALBERTS TOWHEE'.
There are 0 directories and 161 images in '/content/train/SPLENDID WREN'.
There are 0 directories and 149 images in '/content/train/HORNED SUNGEM'.
There are 0 directories and 150 images in '/content/train/FIRE TAILLED MYZORNIS'.
There are 0 directories and 164 images in '/content/train/JAVA SPARROW'.
There are 0 directories and 173 images in '/content/train/HORNED LARK'.
There are 0 directories and 162 images in '/content/train/CUBAN TODY'.
There are 0 directories and 200 images in '/content/train/LIMPKIN'.
There are 0 directories and 144 images in '/content/train/CHINESE POND HERON'.
There are 0 directories and 162 images in '/content/train/CINNAMON FLYCATCHER'.
There are 0 directories and 214 images in '/content/train/WOOD DUCK'.
There are 0 directories and 131 images in '/content/train/MASKED LAPWING'.
There are 0 directories and 154 images in '/content/train/BROWN NOODY'.
There are 0 directories and 165 images in '/content/train/TOWNSENDS WARBLER'.
There are 0 directories and 160 images in '/content/train/BORNEAN LEAFBIRD'.
There are 0 directories and 167 images in '/content/train/RED FACED WARBLER'.
There are 0 directories and 152 images in '/content/train/RING-NECKED PHEASANT'.
There are 0 directories and 153 images in '/content/train/INDIGO BUNTING'.
There are 0 directories and 150 images in '/content/train/INDIAN VULTURE'.
There are 0 directories and 173 images in '/content/train/BLUE DACNIS'.
There are 0 directories and 196 images in '/content/train/STRIATED CARACARA'.
There are 0 directories and 158 images in '/content/train/GOLDEN EAGLE'.
There are 0 directories and 152 images in '/content/train/QUETZAL'.
There are 0 directories and 152 images in '/content/train/INDIGO FLYCATCHER'.
There are 0 directories and 150 images in '/content/train/EASTERN WIP POOR WILL'.
There are 0 directories and 186 images in '/content/train/BLUE MALKOHA'.
There are 0 directories and 203 images in '/content/train/GREATER PRAIRIE CHICKEN'.
There are 0 directories and 160 images in '/content/train/RUDY KINGFISHER'.
There are 0 directories and 150 images in '/content/train/GOLDEN PARAKEET'.
There are 0 directories and 197 images in '/content/train/CRESTED WOOD PARTRIDGE'.
There are 0 directories and 202 images in '/content/train/YELLOW BREASTED CHAT'.
There are 0 directories and 161 images in '/content/train/COMMON POORWILL'.
There are 0 directories and 142 images in '/content/train/ROYAL FLYCATCHER'.
There are 0 directories and 209 images in '/content/train/MERLIN'.
There are 0 directories and 172 images in '/content/train/COLLARED CRESCENTCHEST'.
There are 0 directories and 163 images in '/content/train/INCA TERN'.
There are 0 directories and 158 images in '/content/train/JAPANESE ROBIN'.
There are 0 directories and 139 images in '/content/train/EMERALD TANAGER'.
There are 0 directories and 169 images in '/content/train/VULTURINE GUINEAFOWL'.
There are 0 directories and 154 images in '/content/train/TIT MOUSE'.
There are 0 directories and 138 images in '/content/train/CUBAN TROGON'.
There are 0 directories and 152 images in '/content/train/VENEZUELIAN TROUPIAL'.
There are 0 directories and 163 images in '/content/train/EMU'.
There are 0 directories and 160 images in '/content/train/NORTHERN GOSHAWK'.
There are 0 directories and 158 images in '/content/train/AMERICAN COOT'.
There are 0 directories and 155 images in '/content/train/VERMILION FLYCATHER'.
There are 0 directories and 165 images in '/content/train/BLACK TAIL CRAKE'.
There are 0 directories and 152 images in '/content/train/CRESTED NUTHATCH'.
There are 0 directories and 191 images in '/content/train/RED CROSSBILL'.
There are 0 directories and 209 images in '/content/train/FRILL BACK PIGEON'.
There are 0 directories and 152 images in '/content/train/BALD IBIS'.
There are 0 directories and 160 images in '/content/train/EASTERN ROSELLA'.
There are 0 directories and 140 images in '/content/train/NORTHERN MOCKINGBIRD'.
There are 0 directories and 176 images in '/content/train/WHITE EARED HUMMINGBIRD'.
There are 0 directories and 155 images in '/content/train/BLUE COAU'.
There are 0 directories and 139 images in '/content/train/CREAM COLORED WOODPECKER'.
There are 0 directories and 155 images in '/content/train/TEAL DUCK'.
There are 0 directories and 161 images in '/content/train/OSTRICH'.
There are 0 directories and 160 images in '/content/train/HELMET VANGA'.
There are 0 directories and 160 images in '/content/train/CANARY'.
There are 0 directories and 162 images in '/content/train/GUINEA TURACO'.
There are 0 directories and 160 images in '/content/train/GRAY PARTRIDGE'.
There are 0 directories and 152 images in '/content/train/RED WINGED BLACKBIRD'.
There are 0 directories and 152 images in '/content/train/ROUGH LEG BUZZARD'.
There are 0 directories and 188 images in '/content/train/BLACK VENTED SHEARWATER'.
There are 0 directories and 189 images in '/content/train/GREAT ARGUS'.
There are 0 directories and 193 images in '/content/train/AMERICAN DIPPER'.
There are 0 directories and 162 images in '/content/train/ELLIOTS  PHEASANT'.
There are 0 directories and 155 images in '/content/train/PARAKETT  AUKLET'.
There are 0 directories and 193 images in '/content/train/ROSEATE SPOONBILL'.
There are 0 directories and 163 images in '/content/train/RUDDY SHELDUCK'.
There are 0 directories and 130 images in '/content/train/NORTHERN RED BISHOP'.
There are 0 directories and 160 images in '/content/train/LONG-EARED OWL'.
There are 0 directories and 154 images in '/content/train/BRANDT CORMARANT'.
There are 0 directories and 160 images in '/content/train/STRIPPED SWALLOW'.
There are 0 directories and 153 images in '/content/train/NORTHERN SHOVELER'.
There are 0 directories and 148 images in '/content/train/DOUBLE BARRED FINCH'.
There are 0 directories and 186 images in '/content/train/INDIAN PITTA'.
There are 0 directories and 162 images in '/content/train/CACTUS WREN'.
There are 0 directories and 147 images in '/content/train/AMERICAN ROBIN'.
There are 0 directories and 208 images in '/content/train/MILITARY MACAW'.
There are 0 directories and 144 images in '/content/train/BEARDED REEDLING'.
There are 0 directories and 159 images in '/content/train/JACK SNIPE'.
There are 0 directories and 160 images in '/content/train/CASSOWARY'.
There are 0 directories and 160 images in '/content/train/LARK BUNTING'.
There are 0 directories and 137 images in '/content/train/CHATTERING LORY'.
There are 0 directories and 155 images in '/content/train/WILSONS BIRD OF PARADISE'.
There are 0 directories and 154 images in '/content/train/SUPERB STARLING'.
There are 0 directories and 134 images in '/content/train/EASTERN BLUEBONNET'.
There are 0 directories and 143 images in '/content/train/BAY-BREASTED WARBLER'.
There are 0 directories and 155 images in '/content/train/HOOPOES'.
There are 0 directories and 155 images in '/content/train/CAATINGA CACHOLOTE'.
There are 0 directories and 141 images in '/content/train/AZURE BREASTED PITTA'.
There are 0 directories and 155 images in '/content/train/CAPE ROCK THRUSH'.
There are 0 directories and 201 images in '/content/train/VIOLET GREEN SWALLOW'.
There are 0 directories and 175 images in '/content/train/KILLDEAR'.
There are 0 directories and 182 images in '/content/train/CLARKS GREBE'.
There are 0 directories and 187 images in '/content/train/AUCKLAND SHAQ'.
There are 0 directories and 169 images in '/content/train/SUNBITTERN'.
There are 0 directories and 163 images in '/content/train/BROWN THRASHER'.
There are 0 directories and 203 images in '/content/train/DARK EYED JUNCO'.
There are 0 directories and 160 images in '/content/train/BUSH TURKEY'.
There are 0 directories and 133 images in '/content/train/CAPUCHINBIRD'.
There are 0 directories and 156 images in '/content/train/IVORY GULL'.
There are 0 directories and 159 images in '/content/train/GREY CUCKOOSHRIKE'.
There are 0 directories and 149 images in '/content/train/IVORY BILLED ARACARI'.
There are 0 directories and 163 images in '/content/train/VISAYAN HORNBILL'.
There are 0 directories and 153 images in '/content/train/MOURNING DOVE'.
There are 0 directories and 141 images in '/content/train/COMMON STARLING'.
There are 0 directories and 164 images in '/content/train/CRESTED OROPENDOLA'.
There are 0 directories and 139 images in '/content/train/NORTHERN FLICKER'.
There are 0 directories and 165 images in '/content/train/GREAT TINAMOU'.
There are 0 directories and 173 images in '/content/train/BLACK NECKED STILT'.
There are 0 directories and 154 images in '/content/train/ANDEAN SISKIN'.
There are 0 directories and 144 images in '/content/train/CRAB PLOVER'.
There are 0 directories and 133 images in '/content/train/AMERICAN GOLDFINCH'.
There are 0 directories and 136 images in '/content/train/FAIRY TERN'.
There are 0 directories and 161 images in '/content/train/TAKAHE'.
There are 0 directories and 200 images in '/content/train/PLUSH CRESTED JAY'.
There are 0 directories and 156 images in '/content/train/LOONEY BIRDS'.
There are 0 directories and 143 images in '/content/train/KOOKABURRA'.
There are 0 directories and 135 images in '/content/train/BLACK THROATED WARBLER'.
There are 0 directories and 136 images in '/content/train/TAIWAN MAGPIE'.
There are 0 directories and 159 images in '/content/train/IBERIAN MAGPIE'.
There are 0 directories and 138 images in '/content/train/SCARLET IBIS'.
There are 0 directories and 140 images in '/content/train/POMARINE JAEGER'.
There are 0 directories and 146 images in '/content/train/DAURIAN REDSTART'.
There are 0 directories and 144 images in '/content/train/SPOON BILED SANDPIPER'.
There are 0 directories and 154 images in '/content/train/BORNEAN BRISTLEHEAD'.
There are 0 directories and 153 images in '/content/train/PURPLE FINCH'.
There are 0 directories and 132 images in '/content/train/BLACK COCKATO'.
There are 0 directories and 139 images in '/content/train/AMERICAN REDSTART'.
There are 0 directories and 160 images in '/content/train/WHITE NECKED RAVEN'.
There are 0 directories and 169 images in '/content/train/RED LEGGED HONEYCREEPER'.
There are 0 directories and 156 images in '/content/train/TURQUOISE MOTMOT'.
There are 0 directories and 160 images in '/content/train/SPANGLED COTINGA'.
There are 0 directories and 160 images in '/content/train/SCARLET FACED LIOCICHLA'.
There are 0 directories and 143 images in '/content/train/STRIPED OWL'.
There are 0 directories and 166 images in '/content/train/PUFFIN'.
There are 0 directories and 157 images in '/content/train/LAZULI BUNTING'.
There are 0 directories and 160 images in '/content/train/BEARDED BARBET'.
There are 0 directories and 130 images in '/content/train/PATAGONIAN SIERRA FINCH'.
There are 0 directories and 137 images in '/content/train/AFRICAN FIREFINCH'.
There are 0 directories and 138 images in '/content/train/EUROPEAN TURTLE DOVE'.
There are 0 directories and 159 images in '/content/train/RED NAPED TROGON'.
There are 0 directories and 204 images in '/content/train/JACOBIN PIGEON'.
There are 0 directories and 179 images in '/content/train/ABYSSINIAN GROUND HORNBILL'.
There are 0 directories and 198 images in '/content/train/BLUE THROATED PIPING GUAN'.
There are 0 directories and 160 images in '/content/train/SMITHS LONGSPUR'.
There are 0 directories and 144 images in '/content/train/BLONDE CRESTED WOODPECKER'.
There are 0 directories and 150 images in '/content/train/ANIANIAU'.
There are 0 directories and 135 images in '/content/train/MALLARD DUCK'.
There are 0 directories and 144 images in '/content/train/EVENING GROSBEAK'.
There are 0 directories and 177 images in '/content/train/FLAME TANAGER'.
There are 0 directories and 170 images in '/content/train/BLUE GROSBEAK'.
There are 0 directories and 139 images in '/content/train/TRICOLORED BLACKBIRD'.
There are 0 directories and 154 images in '/content/train/BELTED KINGFISHER'.
There are 0 directories and 164 images in '/content/train/BLACK SWAN'.
There are 0 directories and 160 images in '/content/train/HAWAIIAN GOOSE'.
There are 0 directories and 188 images in '/content/train/ASHY STORM PETREL'.
There are 0 directories and 155 images in '/content/train/GILA WOODPECKER'.
There are 0 directories and 154 images in '/content/train/YELLOW BELLIED FLOWERPECKER'.
There are 0 directories and 155 images in '/content/train/BULWERS PHEASANT'.
There are 0 directories and 182 images in '/content/train/OILBIRD'.
There are 0 directories and 163 images in '/content/train/CERULEAN WARBLER'.
There are 0 directories and 151 images in '/content/train/VICTORIA CROWNED PIGEON'.
There are 0 directories and 165 images in '/content/train/HYACINTH MACAW'.
There are 0 directories and 167 images in '/content/train/BLUE HERON'.
There are 0 directories and 136 images in '/content/train/AZURE JAY'.
There are 0 directories and 187 images in '/content/train/TAWNY FROGMOUTH'.
There are 0 directories and 159 images in '/content/train/FRIGATE'.
There are 0 directories and 131 images in '/content/train/TASMANIAN HEN'.
There are 0 directories and 152 images in '/content/train/CRESTED COUA'.
There are 0 directories and 233 images in '/content/train/OVENBIRD'.
There are 0 directories and 132 images in '/content/train/SNOWY EGRET'.
There are 0 directories and 154 images in '/content/train/MIKADO  PHEASANT'.
There are 0 directories and 154 images in '/content/train/FAIRY PENGUIN'.
There are 0 directories and 135 images in '/content/train/RUBY THROATED HUMMINGBIRD'.
There are 0 directories and 206 images in '/content/train/LAUGHING GULL'.
There are 0 directories and 139 images in '/content/train/COMMON FIRECREST'.
There are 0 directories and 163 images in '/content/train/ABBOTTS BABBLER'.
There are 0 directories and 156 images in '/content/train/CRESTED SHRIKETIT'.
There are 0 directories and 140 images in '/content/train/GREEN BROADBILL'.
There are 0 directories and 181 images in '/content/train/CRESTED SERPENT EAGLE'.
There are 0 directories and 135 images in '/content/train/EUROPEAN GOLDFINCH'.
There are 0 directories and 173 images in '/content/train/PYGMY KINGFISHER'.
There are 0 directories and 190 images in '/content/train/AUSTRALASIAN FIGBIRD'.
There are 0 directories and 152 images in '/content/train/SQUACCO HERON'.
There are 0 directories and 143 images in '/content/train/JABIRU'.
There are 0 directories and 154 images in '/content/train/CRIMSON CHAT'.
There are 0 directories and 135 images in '/content/train/AFRICAN CROWNED CRANE'.
There are 0 directories and 139 images in '/content/train/DUSKY LORY'.
There are 0 directories and 152 images in '/content/train/EASTERN GOLDEN WEAVER'.
There are 0 directories and 137 images in '/content/train/NORTHERN FULMAR'.
There are 0 directories and 155 images in '/content/train/UMBRELLA BIRD'.
There are 0 directories and 248 images in '/content/train/HOUSE FINCH'.
There are 0 directories and 154 images in '/content/train/KAKAPO'.
There are 0 directories and 139 images in '/content/train/ANNAS HUMMINGBIRD'.
There are 0 directories and 131 images in '/content/train/INDIAN BUSTARD'.
There are 0 directories and 165 images in '/content/train/CHINESE BAMBOO PARTRIDGE'.
There are 0 directories and 175 images in '/content/train/GLOSSY IBIS'.
There are 0 directories and 197 images in '/content/train/MARABOU STORK'.
There are 0 directories and 140 images in '/content/train/DUSKY ROBIN'.
There are 0 directories and 154 images in '/content/train/CAPE GLOSSY STARLING'.
There are 0 directories and 197 images in '/content/train/RED BEARDED BEE EATER'.
There are 0 directories and 156 images in '/content/train/RUFOUS KINGFISHER'.
There are 0 directories and 185 images in '/content/train/SURF SCOTER'.
There are 0 directories and 161 images in '/content/train/PARUS MAJOR'.
There are 0 directories and 130 images in '/content/train/SNOWY PLOVER'.
There are 0 directories and 164 images in '/content/train/REGENT BOWERBIRD'.
There are 0 directories and 175 images in '/content/train/LITTLE AUK'.
There are 0 directories and 137 images in '/content/train/BLACK-NECKED GREBE'.
There are 0 directories and 145 images in '/content/train/BLACK THROATED HUET'.
There are 0 directories and 144 images in '/content/train/STRIPPED MANAKIN'.
There are 0 directories and 162 images in '/content/train/CINNAMON ATTILA'.
There are 0 directories and 172 images in '/content/train/RED SHOULDERED HAWK'.
There are 0 directories and 160 images in '/content/train/ROADRUNNER'.
There are 0 directories and 139 images in '/content/train/ECUADORIAN HILLSTAR'.
There are 0 directories and 158 images in '/content/train/BARN OWL'.
There are 0 directories and 162 images in '/content/train/GURNEYS PITTA'.
There are 0 directories and 172 images in '/content/train/FOREST WAGTAIL'.
There are 0 directories and 135 images in '/content/train/GOLDEN CHLOROPHONIA'.
There are 0 directories and 199 images in '/content/train/GREY HEADED CHACHALACA'.
There are 0 directories and 164 images in '/content/train/AMERICAN FLAMINGO'.
There are 0 directories and 212 images in '/content/train/RED BILLED TROPICBIRD'.
There are 0 directories and 152 images in '/content/train/ARARIPE MANAKIN'.
There are 0 directories and 177 images in '/content/train/CABOTS TRAGOPAN'.
There are 0 directories and 155 images in '/content/train/CRESTED CARACARA'.
There are 0 directories and 149 images in '/content/train/GREAT XENOPS'.
There are 0 directories and 144 images in '/content/train/COPPERY TAILED COUCAL'.
There are 0 directories and 159 images in '/content/train/GOLD WING WARBLER'.
There are 0 directories and 137 images in '/content/train/TRUMPTER SWAN'.
There are 0 directories and 179 images in '/content/train/AMERICAN PIPIT'.
There are 0 directories and 154 images in '/content/train/NICOBAR PIGEON'.
There are 0 directories and 137 images in '/content/train/AZURE TANAGER'.
There are 0 directories and 157 images in '/content/train/ORIENTAL BAY OWL'.
There are 0 directories and 162 images in '/content/train/CARMINE BEE-EATER'.
There are 0 directories and 132 images in '/content/train/ORANGE BRESTED BUNTING'.
There are 0 directories and 142 images in '/content/train/WATTLED LAPWING'.
There are 0 directories and 177 images in '/content/train/COMMON GRACKLE'.
There are 0 directories and 150 images in '/content/train/FASCIATED WREN'.
There are 0 directories and 154 images in '/content/train/MANDRIN DUCK'.
There are 0 directories and 165 images in '/content/train/AZURE TIT'.
There are 0 directories and 160 images in '/content/train/CALIFORNIA GULL'.
There are 0 directories and 132 images in '/content/train/BARN SWALLOW'.
There are 0 directories and 155 images in '/content/train/AMERICAN KESTREL'.
There are 0 directories and 163 images in '/content/train/GREAT JACAMAR'.
There are 0 directories and 135 images in '/content/train/HOODED MERGANSER'.
There are 0 directories and 165 images in '/content/train/BANANAQUIT'.
There are 0 directories and 167 images in '/content/train/RED FODY'.
There are 0 directories and 160 images in '/content/train/CRESTED AUKLET'.
There are 0 directories and 163 images in '/content/train/BLACK THROATED BUSHTIT'.
There are 0 directories and 186 images in '/content/train/RUBY CROWNED KINGLET'.
There are 0 directories and 155 images in '/content/train/GRAY CATBIRD'.
There are 0 directories and 160 images in '/content/train/STEAMER DUCK'.
There are 0 directories and 161 images in '/content/train/COMMON LOON'.
There are 0 directories and 136 images in '/content/train/TOUCHAN'.
There are 0 directories and 201 images in '/content/train/VIOLET BACKED STARLING'.
There are 0 directories and 165 images in '/content/train/ENGGANO MYNA'.
There are 0 directories and 197 images in '/content/train/CAMPO FLICKER'.
There are 0 directories and 192 images in '/content/train/PALM NUT VULTURE'.
There are 0 directories and 154 images in '/content/train/PURPLE SWAMPHEN'.
There are 0 directories and 196 images in '/content/train/COPPERSMITH BARBET'.
There are 0 directories and 141 images in '/content/train/MYNA'.
There are 0 directories and 161 images in '/content/train/SNOWY OWL'.
There are 0 directories and 220 images in '/content/train/ASIAN GREEN BEE EATER'.
There are 0 directories and 153 images in '/content/train/CHARA DE COLLAR'.
There are 0 directories and 153 images in '/content/train/SAMATRAN THRUSH'.
There are 0 directories and 157 images in '/content/train/BOBOLINK'.
There are 0 directories and 137 images in '/content/train/MANGROVE CUCKOO'.
There are 0 directories and 156 images in '/content/train/ASIAN CRESTED IBIS'.
There are 0 directories and 133 images in '/content/train/COMMON IORA'.
There are 0 directories and 138 images in '/content/train/KIWI'.
There are 0 directories and 172 images in '/content/train/BLACK BREASTED PUFFBIRD'.
There are 0 directories and 170 images in '/content/train/KING EIDER'.
There are 0 directories and 190 images in '/content/train/LOGGERHEAD SHRIKE'.
There are 0 directories and 160 images in '/content/train/BALD EAGLE'.
There are 0 directories and 168 images in '/content/train/AZARAS SPINETAIL'.
There are 0 directories and 195 images in '/content/train/WILLOW PTARMIGAN'.
There are 0 directories and 166 images in '/content/train/BANDED PITA'.
There are 0 directories and 138 images in '/content/train/WATTLED CURASSOW'.
There are 0 directories and 158 images in '/content/train/GOLDEN PIPIT'.
There are 0 directories and 144 images in '/content/train/KAGU'.
There are 0 directories and 179 images in '/content/train/AFRICAN PYGMY GOOSE'.
There are 0 directories and 133 images in '/content/train/CAPE LONGCLAW'.
There are 0 directories and 195 images in '/content/train/BLUE GRAY GNATCATCHER'.
There are 0 directories and 133 images in '/content/train/RED HEADED WOODPECKER'.
There are 0 directories and 163 images in '/content/train/COCK OF THE  ROCK'.
There are 0 directories and 131 images in '/content/train/BLACK FRANCOLIN'.
There are 0 directories and 162 images in '/content/train/FLAME BOWERBIRD'.
There are 0 directories and 166 images in '/content/train/COCKATOO'.
There are 0 directories and 130 images in '/content/train/RED TAILED THRUSH'.
There are 0 directories and 134 images in '/content/train/BLACKBURNIAM WARBLER'.
There are 0 directories and 190 images in '/content/train/ASIAN OPENBILL STORK'.
There are 0 directories and 155 images in '/content/train/NORTHERN CARDINAL'.
There are 0 directories and 190 images in '/content/train/EASTERN MEADOWLARK'.
There are 0 directories and 185 images in '/content/train/NORTHERN BEARDLESS TYRANNULET'.
There are 0 directories and 155 images in '/content/train/IWI'.
There are 0 directories and 163 images in '/content/train/TURKEY VULTURE'.
There are 0 directories and 192 images in '/content/train/BROWN HEADED COWBIRD'.
There are 0 directories and 156 images in '/content/train/GREEN JAY'.
There are 0 directories and 157 images in '/content/train/DOWNY WOODPECKER'.
There are 0 directories and 163 images in '/content/train/MALACHITE KINGFISHER'.
There are 0 directories and 157 images in '/content/train/COMMON HOUSE MARTIN'.
There are 0 directories and 146 images in '/content/train/RED BELLIED PITTA'.
There are 0 directories and 160 images in '/content/train/PURPLE MARTIN'.
There are 0 directories and 194 images in '/content/train/BANDED BROADBILL'.
There are 0 directories and 162 images in '/content/train/CHIPPING SPARROW'.
There are 0 directories and 142 images in '/content/train/MAGPIE GOOSE'.
There are 0 directories and 137 images in '/content/train/CURL CRESTED ARACURI'.
There are 0 directories and 167 images in '/content/train/HAWFINCH'.
There are 0 directories and 138 images in '/content/train/GREAT POTOO'.
There are 0 directories and 162 images in '/content/train/BLACK FACED SPOONBILL'.
There are 0 directories and 162 images in '/content/train/GYRFALCON'.
There are 0 directories and 181 images in '/content/train/TREE SWALLOW'.
There are 0 directories and 154 images in '/content/train/PINK ROBIN'.
There are 0 directories and 163 images in '/content/train/BAND TAILED GUAN'.
There are 0 directories and 175 images in '/content/train/WHITE TAILED TROPIC'.
There are 0 directories and 216 images in '/content/train/SWINHOES PHEASANT'.
There are 0 directories and 130 images in '/content/train/AMETHYST WOODSTAR'.
There are 0 directories and 161 images in '/content/train/WHITE BREASTED WATERHEN'.
There are 0 directories and 198 images in '/content/train/CRIMSON SUNBIRD'.
There are 0 directories and 185 images in '/content/train/PUNA TEAL'.
There are 0 directories and 160 images in '/content/train/PALILA'.
There are 0 directories and 131 images in '/content/train/GO AWAY BIRD'.
There are 0 directories and 134 images in '/content/train/HARLEQUIN QUAIL'.
There are 0 directories and 174 images in '/content/train/ROSE BREASTED GROSBEAK'.
There are 0 directories and 154 images in '/content/train/MALABAR HORNBILL'.
There are 0 directories and 161 images in '/content/train/CINNAMON TEAL'.
There are 0 directories and 144 images in '/content/train/GREAT GRAY OWL'.
There are 0 directories and 150 images in '/content/train/BAIKAL TEAL'.
There are 0 directories and 150 images in '/content/train/FIERY MINIVET'.
There are 0 directories and 159 images in '/content/train/OCELLATED TURKEY'.
There are 0 directories and 150 images in '/content/train/BLUE THROATED TOUCANET'.
There are 0 directories and 263 images in '/content/train/RUFOUS TREPE'.
There are 0 directories and 200 images in '/content/train/SORA'.
There are 0 directories and 187 images in '/content/train/AFRICAN PIED HORNBILL'.
There are 0 directories and 213 images in '/content/train/CASPIAN TERN'.
There are 0 directories and 175 images in '/content/train/HARPY EAGLE'.
Первый столбец filepaths содержит расположение пути к файлу каждого отдельного изображения. Второй столбец labels, с другой стороны, содержит метку класса соответствующего изображения из пути к файлу


image_dir = Path(dataset)

# Получить пути к файлам и метки
filepaths = list(image_dir.glob(r'**/*.JPG')) + list(image_dir.glob(r'**/*.jpg')) + list(image_dir.glob(r'**/*.png')) + list(image_dir.glob(r'**/*.png'))

labels = list(map(lambda x: os.path.split(os.path.split(x)[0])[1], filepaths))

filepaths = pd.Series(filepaths, name='Filepath').astype(str)
labels = pd.Series(labels, name='Label')

# Объединять пути к файлам и метки
image_df = pd.concat([filepaths, labels], axis=1)
     

# Получите 20 лучших лейблов
label_counts = image_df['Label'].value_counts()[:20]

plt.figure(figsize=(20, 6))
sns.barplot(x=label_counts.index, y=label_counts.values, alpha=0.8, palette='dark:salmon_r')
plt.title('Распределение 20 лучших меток в наборе данных изображений', fontsize=16)
plt.xlabel('Label', fontsize=14)
plt.ylabel('Count', fontsize=14)
plt.xticks(rotation=45)
plt.show()
     
<ipython-input-9-7c5216a8ddb0>:5: FutureWarning: 

Passing `palette` without assigning `hue` is deprecated and will be removed in v0.14.0. Assign the `x` variable to `hue` and set `legend=False` for the same effect.

  sns.barplot(x=label_counts.index, y=label_counts.values, alpha=0.8, palette='dark:salmon_r')


# Отобразить 16 изображений набора данных с их метками
random_index = np.random.randint(0, len(image_df), 16)
fig, axes = plt.subplots(nrows=4, ncols=4, figsize=(10, 10),
                        subplot_kw={'xticks': [], 'yticks': []})

for i, ax in enumerate(axes.flat):
    ax.imshow(plt.imread(image_df.Filepath[random_index[i]]))
    ax.set_title(image_df.Label[random_index[i]])
plt.tight_layout()
plt.show()
     

Анализ частоты вычислительных ошибок Приведенный ниже код используется для анализа уровня ошибок (ELA) изображений в контексте задачи классификации изображений животных.

Функция compute_ela_cv() принимает путь к изображению и параметр качества, сжимает изображение с использованием сжатия JPEG с заданным качеством и вычисляет абсолютную разницу между сжатым и исходным изображениями. Разница умножается на масштабный коэффициент и возвращается в виде изображения ELA.

Функция convert_to_ela_image() принимает путь к изображению и параметр качества, сжимает изображение с использованием сжатия JPEG с заданным качеством, вычисляет абсолютную разницу между сжатым и исходным изображениями и возвращает изображение ELA. Изображение ELA вычисляется с использованием разницы в значениях пикселей между исходным и сжатым изображениями и нормализуется для усиления различий.

Функция random_sample() принимает путь к каталогу и необязательное расширение файла и возвращает случайный путь к файлу из этого каталога с указанным расширением (если указано).

Наконец, код генерирует набор изображений ELA, используя функцию compute_ela_cv() для случайно выбранного изображения из тестового набора данных изображений животных. Изображения ELA генерируются с понижающимся уровнем качества, что приводит к повышению уровня сжатия и, следовательно, к увеличению уровня ошибок. Результирующие изображения отображаются с использованием matplotlib.

В целом, этот код предоставляет способ визуального анализа влияния различных уровней сжатия JPEG на изображения животных и может быть использован для определения оптимальных уровней качества для сжатия изображений в контексте задачи классификации изображений животных.


def compute_ela_cv(path, quality):
    temp_filename = 'temp_file_name.jpeg'
    SCALE = 15
    orig_img = cv2.imread(path)
    orig_img = cv2.cvtColor(orig_img, cv2.COLOR_BGR2RGB)

    cv2.imwrite(temp_filename, orig_img, [cv2.IMWRITE_JPEG_QUALITY, quality])

# считывание сжатого изображения
    compressed_img = cv2.imread(temp_filename)

 # получите абсолютную разницу между img1 и img2 и умножьте на масштаб
    diff = SCALE * cv2.absdiff(orig_img, compressed_img)
    return diff


def convert_to_ela_image(path, quality):
    temp_filename = 'temp_file_name.jpeg'
    ela_filename = 'temp_ela.png'
    image = Image.open(path).convert('RGB')
    image.save(temp_filename, 'JPEG', quality = quality)
    temp_image = Image.open(temp_filename)

    ela_image = ImageChops.difference(image, temp_image)

    extrema = ela_image.getextrema()
    max_diff = max([ex[1] for ex in extrema])
    if max_diff == 0:
        max_diff = 1

    scale = 255.0 / max_diff
    ela_image = ImageEnhance.Brightness(ela_image).enhance(scale)

    return ela_image


def random_sample(path, extension=None):
    if extension:
        items = Path(path).glob(f'*.{extension}')
    else:
        items = Path(path).glob(f'*')

    items = list(items)

    p = random.choice(items)
    return p.as_posix()
     

# Просмотр случайной выборки из набора данных
p = random_sample('/content/test/GOLDEN EAGLE')
orig = cv2.imread(p)
orig = cv2.cvtColor(orig, cv2.COLOR_BGR2RGB) / 255.0
init_val = 100
columns = 3
rows = 3

fig=plt.figure(figsize=(15, 10))
for i in range(1, columns*rows +1):
    quality=init_val - (i-1) * 8
    img = compute_ela_cv(path=p, quality=quality)
    if i == 1:
        img = orig.copy()
    ax = fig.add_subplot(rows, columns, i)
    ax.title.set_text(f'q: {quality}')
    plt.imshow(img)
plt.show()
     

Предварительная обработка данных.

Данные будут разделены на три различные категории: Обучение, валидация и тестирование. Данные обучения будут использоваться для обучения модели CNN глубокого обучения, и ее параметры будут точно настроены с учетом данных валидации. Наконец, производительность данных будет оценена с использованием тестовых данных (данных, которые модель ранее не видела).


# Разделять данные о тренировках и тестах
train_df, test_df = train_test_split(image_df, test_size=0.2, shuffle=True, random_state=42)
     

train_generator = ImageDataGenerator(
    preprocessing_function=tf.keras.applications.efficientnet.preprocess_input,
    validation_split=0.2
)

test_generator = ImageDataGenerator(
    preprocessing_function=tf.keras.applications.efficientnet.preprocess_input,
)
     

# Разделите данные на три категории.
train_images = train_generator.flow_from_dataframe(
    dataframe=train_df,
    x_col='Filepath',
    y_col='Label',
    target_size=TARGET_SIZE,
    color_mode='rgb',
    class_mode='categorical',
    batch_size=BATCH_SIZE,
    shuffle=True,
    seed=42,
    subset='training'
)

val_images = train_generator.flow_from_dataframe(
    dataframe=train_df,
    x_col='Filepath',
    y_col='Label',
    target_size=TARGET_SIZE,
    color_mode='rgb',
    class_mode='categorical',
    batch_size=BATCH_SIZE,
    shuffle=True,
    seed=42,
    subset='validation'
)

test_images = test_generator.flow_from_dataframe(
    dataframe=test_df,
    x_col='Filepath',
    y_col='Label',
    target_size=TARGET_SIZE,
    color_mode='rgb',
    class_mode='categorical',
    batch_size=BATCH_SIZE,
    shuffle=False
)
     
Found 54167 validated image filenames belonging to 525 classes.
Found 13541 validated image filenames belonging to 525 classes.
Found 16927 validated image filenames belonging to 525 classes.

#Шаг увеличения данных
augment = tf.keras.Sequential([
  layers.experimental.preprocessing.Resizing(224,224),
  layers.experimental.preprocessing.Rescaling(1./255),
  layers.experimental.preprocessing.RandomFlip("horizontal"),
  layers.experimental.preprocessing.RandomRotation(0.1),
  layers.experimental.preprocessing.RandomZoom(0.1),
  layers.experimental.preprocessing.RandomContrast(0.1),
])
     
Обучение модели Изображения модели будут обработаны предварительно обученной моделью CNN под названием Efficient Net B 0. Для мониторинга обучения будут использоваться три обратных вызова. Это: Контрольная точка модели, ранняя остановка, обратный вызов Tensorboard. Краткое описание гиперпараметра модели показано следующим образом: Batch size: 32 Epochs: 25 Input Shape: (224, 224, 3) Output layer: 525


#Загрузите предварительно обученную модель
pretrained_model = tf.keras.applications.efficientnet.EfficientNetB0(
    input_shape=(224, 224, 3),
    include_top=False,
    weights='imagenet',
    pooling='max'
)

pretrained_model.trainable = False
     
Downloading data from https://storage.googleapis.com/keras-applications/efficientnetb0_notop.h5
16705208/16705208 [==============================] - 1s 0us/step

# Создать обратный вызов контрольной точки
checkpoint_path = "birds_classification_model_checkpoint"
checkpoint_callback = ModelCheckpoint(checkpoint_path,
                                      save_weights_only=True,
                                      monitor="val_accuracy",
                                      save_best_only=True)
'''Настройте обратный вызов ранней остановки,
чтобы остановить обучение, если значение val_loss модели не улучшается в течение 3 эпох'''
early_stopping = EarlyStopping(monitor = "val_loss", # следите за показателем val_loss
                               patience = 5,
                               restore_best_weights = True) # если val_loss уменьшается в течение 3 эпох подряд, прекратите тренировку

reduce_lr = ReduceLROnPlateau(monitor='val_loss', factor=0.2, patience=3, min_lr=1e-6)
     
Обучение модели


inputs = pretrained_model.input
x = augment(inputs)

x = Dense(128, activation='relu')(pretrained_model.output)
x = Dropout(0.45)(x)
x = Dense(256, activation='relu')(x)
x = Dropout(0.45)(x)


outputs = Dense(525, activation='softmax')(x)

model = Model(inputs=inputs, outputs=outputs)

model.compile(
    optimizer=Adam(0.0001),
    loss='categorical_crossentropy',
    metrics=['accuracy']
)

history = model.fit(
    train_images,
    steps_per_epoch=len(train_images),
    validation_data=val_images,
    validation_steps=len(val_images),
    epochs=25,
    callbacks=[
        early_stopping,
        create_tensorboard_callback("training_logs",
                                    "bird_classification"),
        checkpoint_callback,
        reduce_lr
    ]
)
     
Saving TensorBoard log files to: training_logs/bird_classification/20240119-054158
Epoch 1/25
1693/1693 [==============================] - 193s 106ms/step - loss: 6.2023 - accuracy: 0.0090 - val_loss: 5.6015 - val_accuracy: 0.0661 - lr: 1.0000e-04
Epoch 2/25
1693/1693 [==============================] - 173s 102ms/step - loss: 5.2136 - accuracy: 0.0618 - val_loss: 3.7963 - val_accuracy: 0.3084 - lr: 1.0000e-04
Epoch 3/25
1693/1693 [==============================] - 156s 92ms/step - loss: 4.2801 - accuracy: 0.1307 - val_loss: 2.7704 - val_accuracy: 0.4945 - lr: 1.0000e-04
Epoch 4/25
1693/1693 [==============================] - 155s 91ms/step - loss: 3.7351 - accuracy: 0.1904 - val_loss: 2.1802 - val_accuracy: 0.5971 - lr: 1.0000e-04
Epoch 5/25
1693/1693 [==============================] - 156s 92ms/step - loss: 3.3626 - accuracy: 0.2410 - val_loss: 1.8297 - val_accuracy: 0.6558 - lr: 1.0000e-04
Epoch 6/25
1693/1693 [==============================] - 158s 93ms/step - loss: 3.0697 - accuracy: 0.2836 - val_loss: 1.5662 - val_accuracy: 0.6967 - lr: 1.0000e-04
Epoch 7/25
1693/1693 [==============================] - 158s 93ms/step - loss: 2.8381 - accuracy: 0.3225 - val_loss: 1.4087 - val_accuracy: 0.7232 - lr: 1.0000e-04
Epoch 8/25
1693/1693 [==============================] - 156s 92ms/step - loss: 2.6716 - accuracy: 0.3526 - val_loss: 1.2443 - val_accuracy: 0.7484 - lr: 1.0000e-04
Epoch 9/25
1693/1693 [==============================] - 169s 100ms/step - loss: 2.4943 - accuracy: 0.3865 - val_loss: 1.1665 - val_accuracy: 0.7643 - lr: 1.0000e-04
Epoch 10/25
1693/1693 [==============================] - 170s 101ms/step - loss: 2.3740 - accuracy: 0.4079 - val_loss: 1.0809 - val_accuracy: 0.7765 - lr: 1.0000e-04
Epoch 11/25
1693/1693 [==============================] - 155s 92ms/step - loss: 2.2525 - accuracy: 0.4333 - val_loss: 0.9979 - val_accuracy: 0.7869 - lr: 1.0000e-04
Epoch 12/25
1693/1693 [==============================] - 169s 100ms/step - loss: 2.1431 - accuracy: 0.4543 - val_loss: 0.9454 - val_accuracy: 0.7987 - lr: 1.0000e-04
Epoch 13/25
1693/1693 [==============================] - 156s 92ms/step - loss: 2.0563 - accuracy: 0.4723 - val_loss: 0.9038 - val_accuracy: 0.8035 - lr: 1.0000e-04
Epoch 14/25
1693/1693 [==============================] - 157s 92ms/step - loss: 1.9900 - accuracy: 0.4872 - val_loss: 0.8544 - val_accuracy: 0.8156 - lr: 1.0000e-04
Epoch 15/25
1693/1693 [==============================] - 157s 93ms/step - loss: 1.9230 - accuracy: 0.5016 - val_loss: 0.8284 - val_accuracy: 0.8200 - lr: 1.0000e-04
Epoch 16/25
1693/1693 [==============================] - 156s 92ms/step - loss: 1.8604 - accuracy: 0.5167 - val_loss: 0.8011 - val_accuracy: 0.8225 - lr: 1.0000e-04
Epoch 17/25
1693/1693 [==============================] - 172s 102ms/step - loss: 1.8041 - accuracy: 0.5300 - val_loss: 0.7868 - val_accuracy: 0.8272 - lr: 1.0000e-04
Epoch 18/25
1693/1693 [==============================] - 159s 94ms/step - loss: 1.7676 - accuracy: 0.5377 - val_loss: 0.7696 - val_accuracy: 0.8293 - lr: 1.0000e-04
Epoch 19/25
1693/1693 [==============================] - 169s 100ms/step - loss: 1.6999 - accuracy: 0.5521 - val_loss: 0.7334 - val_accuracy: 0.8350 - lr: 1.0000e-04
Epoch 20/25
1693/1693 [==============================] - 157s 93ms/step - loss: 1.6503 - accuracy: 0.5641 - val_loss: 0.7173 - val_accuracy: 0.8372 - lr: 1.0000e-04
Epoch 21/25
1693/1693 [==============================] - 161s 95ms/step - loss: 1.6205 - accuracy: 0.5734 - val_loss: 0.6946 - val_accuracy: 0.8413 - lr: 1.0000e-04
Epoch 22/25
1693/1693 [==============================] - 154s 91ms/step - loss: 1.5870 - accuracy: 0.5800 - val_loss: 0.6813 - val_accuracy: 0.8442 - lr: 1.0000e-04
Epoch 23/25
1693/1693 [==============================] - 156s 92ms/step - loss: 1.5578 - accuracy: 0.5887 - val_loss: 0.6833 - val_accuracy: 0.8434 - lr: 1.0000e-04
Epoch 24/25
1693/1693 [==============================] - 170s 100ms/step - loss: 1.5350 - accuracy: 0.5916 - val_loss: 0.6741 - val_accuracy: 0.8474 - lr: 1.0000e-04
Epoch 25/25
1693/1693 [==============================] - 159s 94ms/step - loss: 1.4917 - accuracy: 0.6005 - val_loss: 0.6446 - val_accuracy: 0.8542 - lr: 1.0000e-04

results = model.evaluate(test_images, verbose=0)

print("    Test Loss: {:.5f}".format(results[0]))
print("Test Accuracy: {:.2f}%".format(results[1] * 100))
     
    Test Loss: 0.60828
Test Accuracy: 85.96%
📉Визуализация кривых потерь


accuracy = history.history['accuracy']
val_accuracy = history.history['val_accuracy']

loss = history.history['loss']
val_loss = history.history['val_loss']

epochs = range(len(accuracy))
plt.plot(epochs, accuracy, 'b', label='Training accuracy')
plt.plot(epochs, val_accuracy, 'r', label='Validation accuracy')

plt.title('Точность обучения и валидации')
plt.legend()
plt.figure()
plt.plot(epochs, loss, 'b', label='Training loss')
plt.plot(epochs, val_loss, 'r', label='Validation loss')

plt.title('Потеря обучения и валидации')
plt.legend()
plt.show()
     


Составление прогнозов на основе тестовых данных


# Предсказать метку тестовых изображений
pred = model.predict(test_images)
pred = np.argmax(pred,axis=1)

# Сопоставьте метку
labels = (train_images.class_indices)
labels = dict((v,k) for k,v in labels.items())
pred = [labels[k] for k in pred]

# Отобразить результат
print(f'The first 5 predictions: {pred[:5]}')
     
529/529 [==============================] - 46s 84ms/step
The first 5 predictions: ['BELTED KINGFISHER', 'BLUE GROUSE', 'COMMON POORWILL', 'BALTIMORE ORIOLE', 'SHOEBILL']

# Отобразить 25 случайных изображений из набора данных с их надписями
random_index = np.random.randint(0, len(test_df) - 1, 15)
fig, axes = plt.subplots(nrows=3, ncols=5, figsize=(25, 15),
                        subplot_kw={'xticks': [], 'yticks': []})

for i, ax in enumerate(axes.flat):
    ax.imshow(plt.imread(test_df.Filepath.iloc[random_index[i]]))
    if test_df.Label.iloc[random_index[i]] == pred[random_index[i]]:
        color = "green"
    else:
        color = "red"
    ax.set_title(f"True: {test_df.Label.iloc[random_index[i]]}\nPredicted: {pred[random_index[i]]}", color=color)
plt.show()
plt.tight_layout()
     

<Figure size 640x480 with 0 Axes>

index = np.random.randint(0, len(test_df) - 1)
fig, axes = plt.subplots(nrows=1, ncols=1, figsize=(10, 10),
                        subplot_kw={'xticks': [], 'yticks': []})

ax = axes
ax.imshow(plt.imread(test_df.Filepath.iloc[index]))
if test_df.Label.iloc[index] == pred[index]:
    color = "green"
else:
    color = "red"
ax.set_title(f"True: {test_df.Label.iloc[index]}\nPredicted: {pred[index]}", color=color)
plt.show()

     


image_path = '/content/train/ANDEAN GOOSE/001.jpg'  # Укажите полный путь к вашему изображению
fig, axes = plt.subplots(nrows=1, ncols=1, figsize=(10, 10),
                        subplot_kw={'xticks': [], 'yticks': []})

ax = axes
ax.imshow(plt.imread(image_path))
if test_df.Label.iloc[index] == pred[index]:
    color = "green"
else:
    color = "red"
ax.set_title(f"True: {test_df.Label.iloc[index]}\nPredicted: {pred[index]}", color=color)
plt.show()

     
